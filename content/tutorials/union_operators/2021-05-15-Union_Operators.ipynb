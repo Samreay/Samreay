{
 "cells": [
  {
   "attachments": {},
   "cell_type": "markdown",
   "metadata": {},
   "source": [
    "---\n",
    "title: \"Merging dicts with the union operator\"\n",
    "description: \"Python 3.9 introduced a new operator to streamline unions.\"\n",
    "date: 2021-05-15\n",
    "categories: [tutorial]\n",
    "tags: [snippet]\n",
    "aliases: [\"/union\"]\n",
    "---\n"
   ]
  },
  {
   "cell_type": "markdown",
   "metadata": {},
   "source": [
    "Merging two python dictionaries is a [very](https://stackoverflow.com/questions/2799064/how-do-i-merge-dictionaries-together-in-python) [common](https://stackoverflow.com/questions/1781571/how-to-concatenate-two-dictionaries-to-create-a-new-one-in-python) [question](https://stackoverflow.com/questions/9415785/merging-several-python-dictionaries) on StackOverflow. [Some](https://stackoverflow.com/questions/38987/how-do-i-merge-two-dictionaries-in-a-single-expression-taking-union-of-dictiona) of the better responses have been updated for later versions of Python, but I've seen this crop up a few times now to write it up here.\n",
    "\n",
    "In **Python 3.9+**, merging two dictionaries is now staggeringly easy."
   ]
  },
  {
   "cell_type": "code",
   "execution_count": 8,
   "metadata": {
    "ExecuteTime": {
     "end_time": "2021-05-15T10:43:59.248257Z",
     "start_time": "2021-05-15T10:43:59.239254Z"
    }
   },
   "outputs": [],
   "source": [
    "# New in Python 3.9\n",
    "\n",
    "x = {\"hello\": \"there\", \"general\": \"kenobi\"}\n",
    "y = {\"general\": \"potato\", \"a\": \"b\"}\n",
    "z = x | y\n",
    "\n",
    "# z = {'hello': 'there', 'general': 'potato', 'a': 'b'}"
   ]
  },
  {
   "cell_type": "markdown",
   "metadata": {
    "ExecuteTime": {
     "end_time": "2021-05-15T10:07:59.188505Z",
     "start_time": "2021-05-15T10:07:59.168559Z"
    }
   },
   "source": [
    "!!! img-main carbon union\n",
    "\n",
    "Notice that the order of preference is right to left. So values from `y` will override values from `x`. Some may think this is a bit unintuitive - the `|` operator is tradionally used to represent bitwise `or`, and generally when we evaluate `or` expressions, we stop evaluation as soon as we get a `True`. Which, in our example, would mean to stop if the value is found in `x`. \n",
    "\n",
    "Do not think of the union operator as an `or` operator.\n",
    "\n",
    "Start with `x`, and put `y` over the top.\n",
    "\n",
    "## Prior Solutions\n",
    "\n",
    "For completeness, if you don't have Python 3.9 yet (maybe because you're waiting for `tensorflow` support and docker images... please come soon), here are the other various ways of going about merging dictionaries."
   ]
  },
  {
   "cell_type": "code",
   "execution_count": 4,
   "metadata": {
    "ExecuteTime": {
     "end_time": "2021-05-15T10:16:37.455084Z",
     "start_time": "2021-05-15T10:16:37.439002Z"
    }
   },
   "outputs": [],
   "source": [
    "# Python 3.5+\n",
    "z = {**x, **y}\n",
    "\n",
    "# Python <3.5\n",
    "z = x.copy()\n",
    "z.update(y)"
   ]
  },
  {
   "cell_type": "markdown",
   "metadata": {
    "ExecuteTime": {
     "end_time": "2021-05-15T10:17:00.173539Z",
     "start_time": "2021-05-15T10:17:00.162569Z"
    }
   },
   "source": [
    "In terms of what **NOT** to do, *never* utilise the `dict` constructor when either merging or copying a dictionary."
   ]
  },
  {
   "cell_type": "code",
   "execution_count": 6,
   "metadata": {
    "ExecuteTime": {
     "end_time": "2021-05-15T10:17:54.247342Z",
     "start_time": "2021-05-15T10:17:54.242356Z"
    }
   },
   "outputs": [],
   "source": [
    "# Do not do this\n",
    "z = dict(x, **y)"
   ]
  },
  {
   "cell_type": "markdown",
   "metadata": {},
   "source": [
    "Here I have used `dict(x)` to essentially copy the dictionary, and added in the extra keys from `y`.\n",
    "\n",
    "This works great, until you have *anything* but a string for a dictionary key."
   ]
  },
  {
   "cell_type": "code",
   "execution_count": 7,
   "metadata": {
    "ExecuteTime": {
     "end_time": "2021-05-15T10:19:41.949434Z",
     "start_time": "2021-05-15T10:19:41.931482Z"
    }
   },
   "outputs": [
    {
     "ename": "TypeError",
     "evalue": "keywords must be strings",
     "output_type": "error",
     "traceback": [
      "\u001b[1;31m---------------------------------------------------------------------------\u001b[0m",
      "\u001b[1;31mTypeError\u001b[0m                                 Traceback (most recent call last)",
      "\u001b[1;32m<ipython-input-7-7ebfe83d5cb9>\u001b[0m in \u001b[0;36m<module>\u001b[1;34m\u001b[0m\n\u001b[0;32m      1\u001b[0m \u001b[0mw\u001b[0m \u001b[1;33m=\u001b[0m \u001b[1;33m{\u001b[0m\u001b[1;34m\"mixing\"\u001b[0m\u001b[1;33m:\u001b[0m \u001b[1;34m\"types\"\u001b[0m\u001b[1;33m,\u001b[0m \u001b[1;36m5\u001b[0m\u001b[1;33m:\u001b[0m \u001b[1;34m\"danger\"\u001b[0m\u001b[1;33m}\u001b[0m\u001b[1;33m\u001b[0m\u001b[1;33m\u001b[0m\u001b[0m\n\u001b[1;32m----> 2\u001b[1;33m \u001b[0mz\u001b[0m \u001b[1;33m=\u001b[0m \u001b[0mdict\u001b[0m\u001b[1;33m(\u001b[0m\u001b[0mx\u001b[0m\u001b[1;33m,\u001b[0m \u001b[1;33m**\u001b[0m\u001b[0mw\u001b[0m\u001b[1;33m)\u001b[0m\u001b[1;33m\u001b[0m\u001b[1;33m\u001b[0m\u001b[0m\n\u001b[0m",
      "\u001b[1;31mTypeError\u001b[0m: keywords must be strings"
     ]
    }
   ],
   "source": [
    "w = {\"mixing\": \"types\", 5: \"danger\"}\n",
    "z = dict(x, **w)"
   ]
  },
  {
   "cell_type": "markdown",
   "metadata": {},
   "source": [
    "Remember, dictionaries aren't tuples of keyword arguments, they are tuples of keys and values. The key's can be anything so long as it can be hashed."
   ]
  }
 ],
 "metadata": {
  "celltoolbar": "Tags",
  "kernelspec": {
   "display_name": "py310",
   "language": "python",
   "name": "python3"
  },
  "language_info": {
   "codemirror_mode": {
    "name": "ipython",
    "version": 3
   },
   "file_extension": ".py",
   "mimetype": "text/x-python",
   "name": "python",
   "nbconvert_exporter": "python",
   "pygments_lexer": "ipython3",
   "version": "3.10.0 | packaged by conda-forge | (default, Nov 10 2021, 13:20:59) [MSC v.1916 64 bit (AMD64)]"
  },
  "vscode": {
   "interpreter": {
    "hash": "30eef1dcfb837675ec28ded3b62cbdc631b763468d0e57f04da975e3db11727d"
   }
  }
 },
 "nbformat": 4,
 "nbformat_minor": 4
}
