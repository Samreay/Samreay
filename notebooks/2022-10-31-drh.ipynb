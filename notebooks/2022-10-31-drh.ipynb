{
 "cells": [
  {
   "cell_type": "markdown",
   "metadata": {},
   "source": [
    "---\n",
    "layout: post\n",
    "title:  \"The Value of DR High Frequency\"\n",
    "short_title: \"DR-H Value\"\n",
    "desc: \"Investigating the secondary value from charging via DR-H.\"\n",
    "long_desc: \"Investigating the secondary value from charging via DR-H.\"\n",
    "date: ###DATE\n",
    "categories: [tutorial]\n",
    "tags: [plotting]\n",
    "loc: ###LOC\n",
    "permalink: ###LINK \n",
    "redirect_from: \"/drh\"\n",
    "---"
   ]
  },
  {
   "cell_type": "code",
   "execution_count": 1,
   "metadata": {
    "tags": [
     "remove"
    ]
   },
   "outputs": [],
   "source": [
    "# A bunch of imports to keep the plotting code minimal\n",
    "import matplotlib.pyplot as plt\n",
    "plt.style.use(\"dark_background\")\n",
    "plt.rcParams['figure.figsize'] = (8, 4)\n",
    "plt.rcParams['figure.dpi'] = 200\n",
    "plt.rcParams['hist.bins'] = 50\n",
    "plt.rcParams['lines.markersize'] = 2\n",
    "plt.rcParams['lines.linewidth'] = 1.5\n",
    "plt.rcParams[\"axes.labelsize\"] = 14\n",
    "plt.rcParams[\"ytick.labelsize\"] = 12\n",
    "plt.rcParams[\"xtick.labelsize\"] = 12\n",
    "plt.rcParams[\"font.size\"] = 14\n",
    "plt.rcParams[\"axes.grid\"] = False\n",
    "plt.rcParams[\"image.cmap\"] = \"magma\"\n",
    "plt.rc('text', usetex=False)\n",
    "plt.rc('font', family='sans-serif')\n",
    "plt.rcParams['legend.frameon'] = False\n",
    "plt.rcParams['axes.spines.right'] = False\n",
    "plt.rcParams['axes.spines.top'] = False\n",
    "plt.rcParams.update({\n",
    "    \"figure.facecolor\":  (0.0, 0.0, 0.0, 0.0),\n",
    "    \"axes.facecolor\":    (0.0, 0.0, 0.0, 0.0),\n",
    "    \"savefig.facecolor\": (0.0, 0.0, 0.0, 0.0),\n",
    "})\n",
    "from cycler import cycler\t  \n",
    "plt.rcParams['axes.prop_cycle'] = (cycler(color=['#009aeb', '#3df2e0', '#ff890d', '#ffd075', '#96e879']) + cycler(linestyle=['-', '--', ':', '-.', '-']))"
   ]
  },
  {
   "cell_type": "code",
   "execution_count": 8,
   "metadata": {
    "tags": [
     "remove"
    ]
   },
   "outputs": [],
   "source": [
    "from datetime import datetime as dt, timezone as tz\n",
    "from arenkods.data.fs import FeatureStore\n",
    "fs = FeatureStore(address=\"http://172.29.11.21:5903\")\n",
    "start = dt(2021, 10, 31, tzinfo=tz.utc)\n",
    "end = dt(2022, 10, 31, tzinfo=tz.utc)\n",
    "df = fs.get_latest_features([\"dr_hf_power\", \"system_buy_price\", \"m7_gate_price_mean\"], start, end)\n",
    "df = df.rename(columns={\"system_buy_price\": \"Imbalance Price\", \"m7_gate_price_mean\": \"M7 Price\", \"dr_hf_power\": \"DR-H Power\"})"
   ]
  },
  {
   "cell_type": "code",
   "execution_count": 9,
   "metadata": {
    "tags": [
     "remove"
    ]
   },
   "outputs": [],
   "source": [
    "from nimbus.utils import determine_efa\n",
    "efas = determine_efa(df.index.to_series())\n",
    "df[\"EFA\"] = efas[\"efa\"]"
   ]
  },
  {
   "cell_type": "code",
   "execution_count": 10,
   "metadata": {
    "tags": [
     "remove"
    ]
   },
   "outputs": [],
   "source": [
    "df.to_csv(\"data.csv.gz\")"
   ]
  },
  {
   "cell_type": "markdown",
   "metadata": {},
   "source": [
    "# How much is DR High worth?\n",
    "\n",
    "**TL;DR: £10/MW/SP = £20/MW/hr = £80/MW/EFA = £470/MW/day = £173k/MW/year**\n",
    "\n",
    "With the new DR and DM markets, we now have more ancillary services than ever that we can choose to participate in. For older frequency services, such as FFR, the value of participating in the service comes from the availability payment that's part of each month's tender. FFR also has a response energy payment, to help cover the cost of buying energy to fulfill the service.\n",
    "\n",
    "However... what if we don't enter on both the high and low side (where we charge and discharge power respectively)?\n",
    "\n",
    "This poses a question. How much is this response energy worth? In particular, how much is a DR high-frequency contract worth, given that entering a DR-H contract with no DR-L means that *any time the frequency is above 50Hz, we get free energy flowing into our battery?*\n",
    "\n",
    "Let's use some historical data to answer this question!"
   ]
  },
  {
   "cell_type": "markdown",
   "metadata": {},
   "source": [
    "## Loading our data\n",
    "\n",
    "Outside of the scope of this notebook, I have exported the past year of data for the computed DR-H response (per 1MW bid in), the EFA block number, the imbalance price, and the volume-weighted mean of the M7 intraday trade prices placed in the last 10 minutes prior to gate closure (as I assume our asset is a BM here and sends its physical notication an hour prior to delivery)."
   ]
  },
  {
   "cell_type": "code",
   "execution_count": 2,
   "metadata": {},
   "outputs": [
    {
     "data": {
      "text/html": [
       "<div>\n",
       "<style scoped>\n",
       "    .dataframe tbody tr th:only-of-type {\n",
       "        vertical-align: middle;\n",
       "    }\n",
       "\n",
       "    .dataframe tbody tr th {\n",
       "        vertical-align: top;\n",
       "    }\n",
       "\n",
       "    .dataframe thead th {\n",
       "        text-align: right;\n",
       "    }\n",
       "</style>\n",
       "<table border=\"1\" class=\"dataframe\">\n",
       "  <thead>\n",
       "    <tr style=\"text-align: right;\">\n",
       "      <th></th>\n",
       "      <th>DR-H Power</th>\n",
       "      <th>M7 Price</th>\n",
       "      <th>Imbalance Price</th>\n",
       "      <th>EFA</th>\n",
       "    </tr>\n",
       "    <tr>\n",
       "      <th>date_start</th>\n",
       "      <th></th>\n",
       "      <th></th>\n",
       "      <th></th>\n",
       "      <th></th>\n",
       "    </tr>\n",
       "  </thead>\n",
       "  <tbody>\n",
       "    <tr>\n",
       "      <th>2021-10-31 00:00:00+00:00</th>\n",
       "      <td>-0.059054</td>\n",
       "      <td>100.0</td>\n",
       "      <td>170.00000</td>\n",
       "      <td>1</td>\n",
       "    </tr>\n",
       "    <tr>\n",
       "      <th>2021-10-31 00:30:00+00:00</th>\n",
       "      <td>-0.066216</td>\n",
       "      <td>101.0</td>\n",
       "      <td>170.00000</td>\n",
       "      <td>1</td>\n",
       "    </tr>\n",
       "    <tr>\n",
       "      <th>2021-10-31 01:00:00+00:00</th>\n",
       "      <td>-0.010811</td>\n",
       "      <td>101.0</td>\n",
       "      <td>225.00000</td>\n",
       "      <td>1</td>\n",
       "    </tr>\n",
       "    <tr>\n",
       "      <th>2021-10-31 01:30:00+00:00</th>\n",
       "      <td>-0.047658</td>\n",
       "      <td>120.0</td>\n",
       "      <td>40.89000</td>\n",
       "      <td>1</td>\n",
       "    </tr>\n",
       "    <tr>\n",
       "      <th>2021-10-31 02:00:00+00:00</th>\n",
       "      <td>-0.090631</td>\n",
       "      <td>51.0</td>\n",
       "      <td>26.25022</td>\n",
       "      <td>1</td>\n",
       "    </tr>\n",
       "  </tbody>\n",
       "</table>\n",
       "</div>"
      ],
      "text/plain": [
       "                           DR-H Power  M7 Price  Imbalance Price  EFA\n",
       "date_start                                                           \n",
       "2021-10-31 00:00:00+00:00   -0.059054     100.0        170.00000    1\n",
       "2021-10-31 00:30:00+00:00   -0.066216     101.0        170.00000    1\n",
       "2021-10-31 01:00:00+00:00   -0.010811     101.0        225.00000    1\n",
       "2021-10-31 01:30:00+00:00   -0.047658     120.0         40.89000    1\n",
       "2021-10-31 02:00:00+00:00   -0.090631      51.0         26.25022    1"
      ]
     },
     "execution_count": 2,
     "metadata": {},
     "output_type": "execute_result"
    }
   ],
   "source": [
    "import pandas as pd\n",
    "import matplotlib.pyplot as plt\n",
    "import seaborn as sb\n",
    "\n",
    "df = pd.read_csv(\"data.csv.gz\", parse_dates=[\"date_start\"], index_col=\"date_start\").bfill()\n",
    "df.head() ### REMOVE"
   ]
  },
  {
   "cell_type": "markdown",
   "metadata": {},
   "source": [
    "To explain the backfill, not all settlement periods have active m7 trading prior to gate closure. So in this case, let's say \"If there's not enough liquidity to trade on M7 now, let's assume we trade the next SP\".\n",
    "\n",
    "You can [**download the data here.**](/notebooks/drh/data.csv.gz)"
   ]
  },
  {
   "cell_type": "markdown",
   "metadata": {},
   "source": [
    "## The aggregation\n",
    "\n",
    "To look at some averages, let's group everything by EFA block, because this service is bid in by EFA block.\n",
    "\n",
    "In addition, if we get energy in settlement period (SP) 10, we know approximately how much energy that we've received prior to the end of the SP, and thus we can schedule an imbalance discharge for that energy in an hours time. Ie for the SP starting at 9:00am, we'd know the effective volume from DR-H at 9:29am, and can schedule a discharge at 10:30am for it. \n",
    "\n",
    "So instead of using the price as of right now, we use the price 90 minutes into the future.\n",
    "\n",
    "If you have an asset out of the BM and enjoy your NIV chasing (and thus don't have to worry about the hour delay of submitting your physical notifications), then you wouldn't need this extra hour delay, just a single SP.\n",
    "\n",
    "Finally, a quick note on efficiency here. Normally, we would include some baseline efficiency of around 85%, representing all the energy lost to heat and other processes that occur when you import or export energy. For example, if we import 1MW (grid side), < 1MW flows into our battery, and if we then schedule a 1MW discharge, we are going to have ensure that the asset discharges >1MW, so 1MW makes it to the grid).\n",
    "\n",
    "However, if the strategy is to be constantly exporting imbalance schedules, while importing energy from DCH, this may not be necessary. If we are set to discharge 1MW (measured grid side), and DR-H means we should be importing 1MW, then the two net out to \"Do nothing and get paid for it.\"\n",
    "\n",
    "This is the best outcome. Obviously the volume is variable, so this won't always be the case, but it does mean our effective efficiency should be higher than a typical charge+discharge asset cycle. To simplify this writeup, I'm going to throw in 92.5% efficiency, and you can see the calculation for this at the end of the analysis."
   ]
  },
  {
   "cell_type": "code",
   "execution_count": 3,
   "metadata": {},
   "outputs": [
    {
     "data": {
      "text/plain": [
       "M7 Profit           10.11\n",
       "Imbalance Profit     9.88\n",
       "dtype: float64"
      ]
     },
     "execution_count": 3,
     "metadata": {},
     "output_type": "execute_result"
    }
   ],
   "source": [
    "# Shift our prices\n",
    "df_shift = df.copy()\n",
    "df_shift[[\"M7 Price\", \"Imbalance Price\"]] = df_shift[[\"M7 Price\", \"Imbalance Price\"]].shift(-3)\n",
    "\n",
    "# Making a function because I'll reuse this later\n",
    "# The 0.5 comes from the power -> energy conversion (MW -> MWh)\n",
    "def get_profit(df: pd.DataFrame, efficiency = 0.925) -> pd.DataFrame:\n",
    "    # efficiency would be between 0 and 1. 1.0 means no energy lost\n",
    "    df[\"M7 Profit\"] = df[\"M7 Price\"] * -df[\"DR-H Power\"] * efficiency * 0.5\n",
    "    df[\"Imbalance Profit\"] = df[\"Imbalance Price\"] * -df[\"DR-H Power\"] * efficiency * 0.5\n",
    "    return df\n",
    "\n",
    "# Aggregate please\n",
    "df_profit = get_profit(df_shift)\n",
    "cols = [c for c in df_profit.columns if \"Profit\" in c]\n",
    "df_profit[cols].mean().round(2)"
   ]
  },
  {
   "cell_type": "markdown",
   "metadata": {},
   "source": [
    "Simple enough, on average, each settlement period you are in DR-H, every contracted MW is worth around **£10** of profit, regardless of whether you sell on M7 or imbalance.\n",
    "\n",
    "If we break this down by EFA, and double it to convert into hourly profit instead of SP profit:"
   ]
  },
  {
   "cell_type": "code",
   "execution_count": 4,
   "metadata": {},
   "outputs": [
    {
     "data": {
      "text/html": [
       "<div>\n",
       "<style scoped>\n",
       "    .dataframe tbody tr th:only-of-type {\n",
       "        vertical-align: middle;\n",
       "    }\n",
       "\n",
       "    .dataframe tbody tr th {\n",
       "        vertical-align: top;\n",
       "    }\n",
       "\n",
       "    .dataframe thead th {\n",
       "        text-align: right;\n",
       "    }\n",
       "</style>\n",
       "<table border=\"1\" class=\"dataframe\">\n",
       "  <thead>\n",
       "    <tr style=\"text-align: right;\">\n",
       "      <th></th>\n",
       "      <th>M7 Profit (£/hr/MW contracted)</th>\n",
       "      <th>Imbalance Profit (£/hr/MW contracted)</th>\n",
       "    </tr>\n",
       "    <tr>\n",
       "      <th>EFA</th>\n",
       "      <th></th>\n",
       "      <th></th>\n",
       "    </tr>\n",
       "  </thead>\n",
       "  <tbody>\n",
       "    <tr>\n",
       "      <th>1</th>\n",
       "      <td>14.94</td>\n",
       "      <td>15.18</td>\n",
       "    </tr>\n",
       "    <tr>\n",
       "      <th>2</th>\n",
       "      <td>16.00</td>\n",
       "      <td>15.66</td>\n",
       "    </tr>\n",
       "    <tr>\n",
       "      <th>3</th>\n",
       "      <td>20.28</td>\n",
       "      <td>19.34</td>\n",
       "    </tr>\n",
       "    <tr>\n",
       "      <th>4</th>\n",
       "      <td>19.58</td>\n",
       "      <td>19.76</td>\n",
       "    </tr>\n",
       "    <tr>\n",
       "      <th>5</th>\n",
       "      <td>27.70</td>\n",
       "      <td>26.02</td>\n",
       "    </tr>\n",
       "    <tr>\n",
       "      <th>6</th>\n",
       "      <td>22.78</td>\n",
       "      <td>22.64</td>\n",
       "    </tr>\n",
       "  </tbody>\n",
       "</table>\n",
       "</div>"
      ],
      "text/plain": [
       "     M7 Profit (£/hr/MW contracted)  Imbalance Profit (£/hr/MW contracted)\n",
       "EFA                                                                       \n",
       "1                             14.94                                  15.18\n",
       "2                             16.00                                  15.66\n",
       "3                             20.28                                  19.34\n",
       "4                             19.58                                  19.76\n",
       "5                             27.70                                  26.02\n",
       "6                             22.78                                  22.64"
      ]
     },
     "execution_count": 4,
     "metadata": {},
     "output_type": "execute_result"
    }
   ],
   "source": [
    "df_efa = df_profit.groupby(\"EFA\").mean()[cols]\n",
    "df_efa.round(2).add_suffix(\" (£/hr/MW contracted)\") * 2"
   ]
  },
  {
   "cell_type": "markdown",
   "metadata": {},
   "source": [
    "Or to visualise this:"
   ]
  },
  {
   "cell_type": "code",
   "execution_count": 6,
   "metadata": {},
   "outputs": [
    {
     "data": {
      "image/png": "[encoded data removed]",
      "text/plain": [
       "<Figure size 1600x800 with 1 Axes>"
      ]
     },
     "metadata": {
      "needs_background": "dark"
     },
     "output_type": "display_data"
    }
   ],
   "source": [
    "ax = (df_efa[cols] * 2).plot.barh()\n",
    "ax.set_xlabel(\"Profit (£/hr/MW contracted)\") ### REMOVE\n",
    "ax.invert_yaxis() ### REMOVE\n",
    "ax.set_xlim(0, 34); ### REMOVE"
   ]
  },
  {
   "cell_type": "markdown",
   "metadata": {},
   "source": [
    "To restate: assuming you can sell your DR-H power instantly on imbalance or M7, you'd make around £20/MW *every hour* when you're in EFAs 3-6, and around £8/hr/MW for EFAs 1 and 2.\n",
    "\n",
    "If we wanted this to be the profit per EFA block, that's easy enough to do."
   ]
  },
  {
   "cell_type": "code",
   "execution_count": 13,
   "metadata": {},
   "outputs": [
    {
     "data": {
      "text/html": [
       "<div>\n",
       "<style scoped>\n",
       "    .dataframe tbody tr th:only-of-type {\n",
       "        vertical-align: middle;\n",
       "    }\n",
       "\n",
       "    .dataframe tbody tr th {\n",
       "        vertical-align: top;\n",
       "    }\n",
       "\n",
       "    .dataframe thead th {\n",
       "        text-align: right;\n",
       "    }\n",
       "</style>\n",
       "<table border=\"1\" class=\"dataframe\">\n",
       "  <thead>\n",
       "    <tr style=\"text-align: right;\">\n",
       "      <th></th>\n",
       "      <th>M7 Profit (£/EFA/MW contracted)</th>\n",
       "      <th>Imbalance Profit (£/EFA/MW contracted)</th>\n",
       "    </tr>\n",
       "    <tr>\n",
       "      <th>EFA</th>\n",
       "      <th></th>\n",
       "      <th></th>\n",
       "    </tr>\n",
       "  </thead>\n",
       "  <tbody>\n",
       "    <tr>\n",
       "      <th>1</th>\n",
       "      <td>62.32</td>\n",
       "      <td>64.42</td>\n",
       "    </tr>\n",
       "    <tr>\n",
       "      <th>2</th>\n",
       "      <td>64.79</td>\n",
       "      <td>65.41</td>\n",
       "    </tr>\n",
       "    <tr>\n",
       "      <th>3</th>\n",
       "      <td>81.86</td>\n",
       "      <td>81.79</td>\n",
       "    </tr>\n",
       "    <tr>\n",
       "      <th>4</th>\n",
       "      <td>80.55</td>\n",
       "      <td>82.60</td>\n",
       "    </tr>\n",
       "    <tr>\n",
       "      <th>5</th>\n",
       "      <td>108.86</td>\n",
       "      <td>105.84</td>\n",
       "    </tr>\n",
       "    <tr>\n",
       "      <th>6</th>\n",
       "      <td>89.81</td>\n",
       "      <td>89.96</td>\n",
       "    </tr>\n",
       "  </tbody>\n",
       "</table>\n",
       "</div>"
      ],
      "text/plain": [
       "     M7 Profit (£/EFA/MW contracted)  Imbalance Profit (£/EFA/MW contracted)\n",
       "EFA                                                                         \n",
       "1                              62.32                                   64.42\n",
       "2                              64.79                                   65.41\n",
       "3                              81.86                                   81.79\n",
       "4                              80.55                                   82.60\n",
       "5                             108.86                                  105.84\n",
       "6                              89.81                                   89.96"
      ]
     },
     "execution_count": 13,
     "metadata": {},
     "output_type": "execute_result"
    }
   ],
   "source": [
    "(df_efa * 8).round(2).add_suffix(\" (£/EFA/MW contracted)\")"
   ]
  },
  {
   "cell_type": "markdown",
   "metadata": {},
   "source": [
    "Yes, ironic that we write this simple \"Assume 1 EFA = 8 SP\" literally the day after London changed timezones and violated that assumption for EFA 1. Given we've got a whole year of data though, it balances out.\n",
    "\n",
    "Now, extrapolating to a year:"
   ]
  },
  {
   "cell_type": "code",
   "execution_count": 35,
   "metadata": {},
   "outputs": [
    {
     "data": {
      "text/plain": [
       "M7 Profit (£k/Year/MW contracted)           177.05\n",
       "Imbalance Profit (£k/Year/MW contracted)    173.16\n",
       "dtype: float64"
      ]
     },
     "execution_count": 35,
     "metadata": {},
     "output_type": "execute_result"
    }
   ],
   "source": [
    "(df_profit[cols].mean() * (365 * 48) / 1000).add_suffix(\" (£k/Year/MW contracted)\").round(2)"
   ]
  },
  {
   "cell_type": "markdown",
   "metadata": {},
   "source": [
    "So when we scale DR-H up to a year, it gives a profit of **£173k**.\n",
    "\n",
    "\n",
    "For another unit, this means that parking your asset in DR-H nets you approximately **£470/MW/day.** "
   ]
  },
  {
   "cell_type": "markdown",
   "metadata": {},
   "source": [
    "## Extensions\n",
    "\n",
    "#### Seasonality\n",
    "\n",
    "We all know winter prices can get *crazy*. That might be reflected in the value of our DR-H contracts. For simplicity (and given the similarity of profits above), I'll assume we decide to sell on imbalance rather than M7. Don't worry, I reran this after picking M7 and the results don't change."
   ]
  },
  {
   "cell_type": "code",
   "execution_count": 7,
   "metadata": {},
   "outputs": [],
   "source": [
    "month = df_profit.index.month.rename(\"Month\")\n",
    "df_month = df_shift.groupby([\"EFA\", month]).mean()\n",
    "df_month = df_month[\"Imbalance Profit\"].unstack()"
   ]
  },
  {
   "cell_type": "code",
   "execution_count": 9,
   "metadata": {},
   "outputs": [
    {
     "data": {
      "image/png": "[encoded data removed]",
      "text/plain": [
       "<Figure size 1600x800 with 2 Axes>"
      ]
     },
     "metadata": {
      "needs_background": "dark"
     },
     "output_type": "display_data"
    }
   ],
   "source": [
    "# Again note the doubling to get us into hourly profit instead of SP profit.\n",
    "sb.heatmap(df_month * 2, annot=True, cbar_kws=dict(label=\"Profit (£/hr/MW)\"), annot_kws={\"size\": 8});"
   ]
  },
  {
   "cell_type": "markdown",
   "metadata": {},
   "source": [
    "!!! main img-poster \n",
    "\n",
    "That's a crazy outlier in August for EFA 6. Lots of the grid being short and higher imbalance prices.\n",
    "\n",
    "**Important note:** Recall we pulled the last 12 months of data. That means that after October 30th, the data being used here is from *2021!* we would expect, if we were to rerun this at the end of the year, the November and December profits may look fairly different.\n",
    "\n",
    "#### Perfect Efficiency?\n",
    "\n",
    "Alright, let's peel back the curtain and explain how we got my efficiency figure. If we are waiting 90 minutes to discharge, all we have to do is look at the difference in DR-H power 90 minutes apart.\n",
    "\n",
    "To be clear, we are comparing two scenarios. The first (the naive one), is treating DR-H charge and imbalance discharge like they happen always in separate SP, so the asset charges, changes state of charge, and then discharges, like a normal buy-sell trade. This is not what happens. We happens is that we continually schedule discharges while, *at the same time*, we continually also import energy, and only the net power changes hands.\n",
    "\n",
    "So what we want to do is look at the difference in DR-H power 90 minutes apart, because it's only that difference which our asset has to make up."
   ]
  },
  {
   "cell_type": "code",
   "execution_count": 9,
   "metadata": {},
   "outputs": [
    {
     "name": "stdout",
     "output_type": "stream",
     "text": [
      "Starting with nominal_efficiency=85.0%, \n",
      "we calculate an average effective_efficiency=92.5% \n",
      "from fractional_cycle=0.501\n"
     ]
    }
   ],
   "source": [
    "nominal_efficiency = 0.85 # Pretty standard battery efficiency\n",
    "actual_powerflow = (df[\"DR-H Power\"] - df[\"DR-H Power\"].shift(3)).abs()\n",
    "naive_cycle_powerflow = df[\"DR-H Power\"].abs() + df[\"DR-H Power\"].shift(3).abs()\n",
    "fractional_cycle = (actual_powerflow / naive_cycle_powerflow).mean()\n",
    "effective_efficiency = 1 - (1 - nominal_efficiency) * fractional_cycle\n",
    "print(f\"Starting with {nominal_efficiency=:0.1%}, \")\n",
    "print(f\"we calculate an average {effective_efficiency=:0.1%} \")\n",
    "print(f\"from {fractional_cycle=:0.3f}\")"
   ]
  },
  {
   "cell_type": "markdown",
   "metadata": {},
   "source": [
    "It would be nice to break 95%, but hey, effectively increasing your energy efficiency in *any* way is fantastic."
   ]
  },
  {
   "cell_type": "markdown",
   "metadata": {},
   "source": [
    "#### Auxiliary Load\n",
    "\n",
    "Batteries need power to run. Keeping things cool is always a big drain on energy. Assuming that the energy to run a battery scales with its power capacity, and using the Bloxwich asset as a baseline, we come up with approximately **0.0065MW/MW** in auxiliary load. So for every MW power capacity, you will use about 6.5kW cooling and operating. This is with a one hour duration asset, and I would expect that if you have assets of longer or shorter durations, this number might change.\n",
    "\n",
    "We can modify the prior numbers to take this loss into account (because it is *not* included in the efficiency calculations above).\n",
    "\n"
   ]
  },
  {
   "cell_type": "code",
   "execution_count": 10,
   "metadata": {},
   "outputs": [
    {
     "data": {
      "text/html": [
       "<div>\n",
       "<style scoped>\n",
       "    .dataframe tbody tr th:only-of-type {\n",
       "        vertical-align: middle;\n",
       "    }\n",
       "\n",
       "    .dataframe tbody tr th {\n",
       "        vertical-align: top;\n",
       "    }\n",
       "\n",
       "    .dataframe thead th {\n",
       "        text-align: right;\n",
       "    }\n",
       "</style>\n",
       "<table border=\"1\" class=\"dataframe\">\n",
       "  <thead>\n",
       "    <tr style=\"text-align: right;\">\n",
       "      <th></th>\n",
       "      <th>M7 Profit</th>\n",
       "      <th>Imbalance Profit</th>\n",
       "    </tr>\n",
       "    <tr>\n",
       "      <th>EFA</th>\n",
       "      <th></th>\n",
       "      <th></th>\n",
       "    </tr>\n",
       "  </thead>\n",
       "  <tbody>\n",
       "    <tr>\n",
       "      <th>1</th>\n",
       "      <td>13.96</td>\n",
       "      <td>14.16</td>\n",
       "    </tr>\n",
       "    <tr>\n",
       "      <th>2</th>\n",
       "      <td>14.86</td>\n",
       "      <td>14.50</td>\n",
       "    </tr>\n",
       "    <tr>\n",
       "      <th>3</th>\n",
       "      <td>19.02</td>\n",
       "      <td>18.10</td>\n",
       "    </tr>\n",
       "    <tr>\n",
       "      <th>4</th>\n",
       "      <td>18.42</td>\n",
       "      <td>18.58</td>\n",
       "    </tr>\n",
       "    <tr>\n",
       "      <th>5</th>\n",
       "      <td>26.18</td>\n",
       "      <td>24.56</td>\n",
       "    </tr>\n",
       "    <tr>\n",
       "      <th>6</th>\n",
       "      <td>21.60</td>\n",
       "      <td>21.46</td>\n",
       "    </tr>\n",
       "  </tbody>\n",
       "</table>\n",
       "</div>"
      ],
      "text/plain": [
       "     M7 Profit  Imbalance Profit\n",
       "EFA                             \n",
       "1        13.96             14.16\n",
       "2        14.86             14.50\n",
       "3        19.02             18.10\n",
       "4        18.42             18.58\n",
       "5        26.18             24.56\n",
       "6        21.60             21.46"
      ]
     },
     "execution_count": 10,
     "metadata": {},
     "output_type": "execute_result"
    }
   ],
   "source": [
    "df_aux = df_shift.copy()\n",
    "df_aux[\"DR-H Power\"] += 0.0065\n",
    "df_aux = get_profit(df_aux)\n",
    "df_aux.groupby(\"EFA\")[cols].mean().round(2) * 2"
   ]
  },
  {
   "cell_type": "markdown",
   "metadata": {},
   "source": [
    "And taking the global average:"
   ]
  },
  {
   "cell_type": "code",
   "execution_count": 11,
   "metadata": {},
   "outputs": [
    {
     "data": {
      "text/plain": [
       "M7 Profit           19.02\n",
       "Imbalance Profit    18.56\n",
       "dtype: float64"
      ]
     },
     "execution_count": 11,
     "metadata": {},
     "output_type": "execute_result"
    }
   ],
   "source": [
    "df_aux[cols].mean().round(2) * 2"
   ]
  },
  {
   "cell_type": "markdown",
   "metadata": {},
   "source": [
    "So the auxiliary load has a bit of an impact, but not much for a typical battery. We're still looking at approximately **£20/hr/MW contracted**."
   ]
  },
  {
   "cell_type": "markdown",
   "metadata": {},
   "source": [
    "# Summary\n",
    "\n",
    "The profit from selling DC-H energy is volatile. It changes over EFA, and month to month. However, in the vast majority of cases, it sits *above* **£7/MW/SP**. EFA 5 represents the greatest value. Freely discharging into the most profitable SP of the day is - shockingly - an effective way to make money. It is *also* a highly efficient way to make money and reduce your asset cycling, as it reduces cycling by around 50%.\n",
    "\n",
    "You can expect to make, on average, **£10/MW/SP** (equivalently  **80/MW/hr**, **80/MW/EFA**, **£470/MW/day**, **£173k/MW/year**), if you just set and forget your asset into DR-H."
   ]
  },
  {
   "cell_type": "markdown",
   "metadata": {},
   "source": []
  }
 ],
 "metadata": {
  "kernelspec": {
   "display_name": "Python 3.9.12 ('base')",
   "language": "python",
   "name": "python3"
  },
  "language_info": {
   "codemirror_mode": {
    "name": "ipython",
    "version": 3
   },
   "file_extension": ".py",
   "mimetype": "text/x-python",
   "name": "python",
   "nbconvert_exporter": "python",
   "pygments_lexer": "ipython3",
   "version": "3.9.12"
  },
  "orig_nbformat": 4,
  "vscode": {
   "interpreter": {
    "hash": "f1e417179d4e636e5e552ef604139ec599095909cdc34b57d6cb09c4c9832cc1"
   }
  }
 },
 "nbformat": 4,
 "nbformat_minor": 2
}
