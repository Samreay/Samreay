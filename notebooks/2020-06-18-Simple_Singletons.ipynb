{
 "cells": [
  {
   "cell_type": "markdown",
   "metadata": {},
   "source": [
    "---\n",
    "layout: post\n",
    "title:  \"One Line Python Singletons\"\n",
    "desc: \"Goodbye boilerplate code, hello an elegant one line solution to get singletons in python\"\n",
    "date: ###DATE\n",
    "categories: [tutorial]\n",
    "tags: [snippet]\n",
    "loc: ###LOC\n",
    "permalink: ###LINK \n",
    "redirect_from: \"/singletons\"\n",
    "math: true\n",
    "---\n",
    "\n",
    "Singletons are the idea that you want to get an instance of a class, but you *only ever want there to be a single instance of that class instantiated*. A nice example might be a configuration class, or a coordinator class that is used by various pieces of you code, and you want to make sure that they're all pointing to the same instance without having to pass the object around in eery invocation!\n",
    "\n",
    "Let's create some dummy Singleton class (which isn't a singleton yet)"
   ]
  },
  {
   "cell_type": "code",
   "execution_count": 44,
   "metadata": {},
   "outputs": [],
   "source": [
    "class Singleton():\n",
    "    def __init__(self):\n",
    "        self.state = \"I am alive!\"\n",
    "    def set_state(self, state):\n",
    "        self.state = state\n",
    "    def get_state(self):\n",
    "        return self.state"
   ]
  },
  {
   "cell_type": "markdown",
   "metadata": {},
   "source": [
    "Great, now obviously if we get a new instance in two different functions, they are going to be totally independent of each other"
   ]
  },
  {
   "cell_type": "code",
   "execution_count": 46,
   "metadata": {},
   "outputs": [
    {
     "name": "stdout",
     "output_type": "stream",
     "text": [
      "['I was asked for in function_A', 'I was asked for in function_B']\n"
     ]
    }
   ],
   "source": [
    "def function_A():\n",
    "    s = Singleton()\n",
    "    s.set_state(\"I was asked for in function_A\")\n",
    "    return s\n",
    "\n",
    "def function_B():\n",
    "    s = Singleton()\n",
    "    s.set_state(\"I was asked for in function_B\")\n",
    "    return s\n",
    "\n",
    "s1 = function_A()\n",
    "s2 = function_B()\n",
    "print([s1.state, s2.state])"
   ]
  },
  {
   "cell_type": "markdown",
   "metadata": {},
   "source": [
    "So you can see they are different. We could also check the ids, but you believe me. Now, one easy solution is to just make `s = Singleton()` happen globally, outside the function scope. But then we'd be breaking scope, and that is **bad**. Global variables should be avoided like the plague in structured code like this. So how can we request the same instance, without having global state?"
   ]
  },
  {
   "cell_type": "code",
   "execution_count": 49,
   "metadata": {},
   "outputs": [],
   "source": [
    "from functools import lru_cache\n",
    "\n",
    "@lru_cache(maxsize=1)\n",
    "def singleton_factory():\n",
    "    return Singleton()"
   ]
  },
  {
   "cell_type": "markdown",
   "metadata": {},
   "source": [
    "!!!main carbon singleton\n",
    "\n",
    "Easy, we utilise the decorator `lru_cache`. Let's see it in action first."
   ]
  },
  {
   "cell_type": "code",
   "execution_count": 50,
   "metadata": {},
   "outputs": [
    {
     "name": "stdout",
     "output_type": "stream",
     "text": [
      "['I was asked for in function_D', 'I was asked for in function_D']\n"
     ]
    }
   ],
   "source": [
    "def function_C():\n",
    "    s = singleton_factory()\n",
    "    s.set_state(\"I was asked for in function_C\")\n",
    "    return s\n",
    "\n",
    "def function_D():\n",
    "    s = singleton_factory()\n",
    "    s.set_state(\"I was asked for in function_D\")\n",
    "    return s\n",
    "\n",
    "s3 = function_C()\n",
    "s4 = function_D()\n",
    "print([s3.state, s4.state])"
   ]
  },
  {
   "cell_type": "markdown",
   "metadata": {},
   "source": [
    "And you can see that we get the state from function D out twice, because the functions were modifying the same (and only) instance of `Singleton`. So what `lru_cache(maxsize=1)` is doing is saying \"I'm going to remember the last 1 time called this function with given inputs, and if they call the function the same way again, I'm not going to run it, I'm going to return the previous result, which I've got stored.\"\n",
    "\n",
    "In this way, the first call to the function creates the class (so we are only computing when asked to, unlike a global variable which would always be created), and then all subsequent calls get the same instance.\n",
    "\n",
    "To help better explain `lru_cache`, lets do a simple example with numbers:"
   ]
  },
  {
   "cell_type": "code",
   "execution_count": 52,
   "metadata": {},
   "outputs": [
    {
     "name": "stdout",
     "output_type": "stream",
     "text": [
      "I am doubling 1\n",
      "2\n",
      "2\n",
      "I am doubling 2\n",
      "4\n",
      "I am doubling 3\n",
      "6\n",
      "I am doubling 1\n",
      "2\n"
     ]
    }
   ],
   "source": [
    "@lru_cache(maxsize=2)\n",
    "def double(x):\n",
    "    print(f\"I am doubling {x}\")\n",
    "    return 2 * x\n",
    "\n",
    "inputs = [1, 1, 2, 3, 1]\n",
    "for i in inputs:\n",
    "    print(double(i))"
   ]
  },
  {
   "cell_type": "markdown",
   "metadata": {},
   "source": [
    "The first time we say to double, `lru_cache` checks its (empty) dictionary mapping inputs to outputs, sees it doesn't have anything under an input of `x=1`, so it hits the function. The second time, there is no print statement, because `lru_cache` finds the previous run we just did and uses its stored result.\n",
    "\n",
    "Then it goes to two, and `x=2` is a new input, so the function runs. Same for `x=3`. And then it gets back to `x=1`, but because we said `maxsize=2` (ie only remember the last two unique runs), it had cleared out the saved `x=1` run, and has to do it again. Of course, `maxsize=2` is a tiny number, and you can bump this up to some power of 2 that is more useful. One thing to take note of is that any function you want to cache like this has to have hashable inputs. So numbers, strings (primitives in general), however generic objects without hashes will not be able to be saved, and you'll see a warning. \n",
    "\n",
    "`lru_cache` is a great way of defining both singletons, and providing a cheap and easy way of speeding up your code if you are doing things over and over!"
   ]
  }
 ],
 "metadata": {
  "celltoolbar": "Tags",
  "kernelspec": {
   "display_name": "Python 3",
   "language": "python",
   "name": "python3"
  },
  "language_info": {
   "codemirror_mode": {
    "name": "ipython",
    "version": 3
   },
   "file_extension": ".py",
   "mimetype": "text/x-python",
   "name": "python",
   "nbconvert_exporter": "python",
   "pygments_lexer": "ipython3",
   "version": "3.7.10"
  }
 },
 "nbformat": 4,
 "nbformat_minor": 4
}
