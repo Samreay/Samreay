{
 "cells": [
  {
   "cell_type": "markdown",
   "metadata": {},
   "source": [
    "---\n",
    "layout: post\n",
    "title:  \"Multiprocessing In Python: Core vs libraries\"\n",
    "short_title: \"Simple Multiprocessing in Python\"\n",
    "desc: \"Comparing inbuilt solutions to a range of external libraries.\"\n",
    "long_desc: \"A demonstration of Python's concurrent processing and comparison to external third-party libraries like loky, ray, and pathos\"\n",
    "date: ###DATE\n",
    "categories: [tutorial]\n",
    "tags: [snippet]\n",
    "loc: ###LOC\n",
    "permalink: ###LINK \n",
    "redirect_from: \"/multiprocessing\"\n",
    "\n",
    "---\n"
   ]
  },
  {
   "cell_type": "markdown",
   "metadata": {},
   "source": [
    "In this short writeup I'll give examples of various multiprocessing libraries, how to use them with minimal setup, and what their strengths are.\n",
    "\n",
    "If you want a TL;DR - I recommend trying out `loky` for single machine tasks, check out Ray for larger tasks."
   ]
  },
  {
   "cell_type": "code",
   "execution_count": 1,
   "metadata": {
    "ExecuteTime": {
     "end_time": "2021-08-15T17:30:54.357403Z",
     "start_time": "2021-08-15T17:30:54.085121Z"
    },
    "tags": [
     "remove_output"
    ]
   },
   "outputs": [
    {
     "ename": "ModuleNotFoundError",
     "evalue": "No module named 'loky'",
     "output_type": "error",
     "traceback": [
      "\u001b[1;31m---------------------------------------------------------------------------\u001b[0m",
      "\u001b[1;31mModuleNotFoundError\u001b[0m                       Traceback (most recent call last)",
      "\u001b[1;32m<ipython-input-1-a78ce2840f09>\u001b[0m in \u001b[0;36m<module>\u001b[1;34m\u001b[0m\n\u001b[0;32m      1\u001b[0m \u001b[1;31m# Loky, great for single machine parallelism\u001b[0m\u001b[1;33m\u001b[0m\u001b[1;33m\u001b[0m\u001b[1;33m\u001b[0m\u001b[0m\n\u001b[1;32m----> 2\u001b[1;33m \u001b[1;32mfrom\u001b[0m \u001b[0mloky\u001b[0m \u001b[1;32mimport\u001b[0m \u001b[0mget_reusable_executor\u001b[0m\u001b[1;33m\u001b[0m\u001b[1;33m\u001b[0m\u001b[0m\n\u001b[0m\u001b[0;32m      3\u001b[0m \u001b[0mexecutor\u001b[0m \u001b[1;33m=\u001b[0m \u001b[0mget_reusable_executor\u001b[0m\u001b[1;33m(\u001b[0m\u001b[1;33m)\u001b[0m\u001b[1;33m\u001b[0m\u001b[1;33m\u001b[0m\u001b[0m\n\u001b[0;32m      4\u001b[0m \u001b[0mresults\u001b[0m \u001b[1;33m=\u001b[0m \u001b[0mlist\u001b[0m\u001b[1;33m(\u001b[0m\u001b[0mexecutor\u001b[0m\u001b[1;33m.\u001b[0m\u001b[0mmap\u001b[0m\u001b[1;33m(\u001b[0m\u001b[0mfn\u001b[0m\u001b[1;33m,\u001b[0m \u001b[0mjobs\u001b[0m\u001b[1;33m)\u001b[0m\u001b[1;33m)\u001b[0m\u001b[1;33m\u001b[0m\u001b[1;33m\u001b[0m\u001b[0m\n\u001b[0;32m      5\u001b[0m \u001b[1;33m\u001b[0m\u001b[0m\n",
      "\u001b[1;31mModuleNotFoundError\u001b[0m: No module named 'loky'"
     ]
    }
   ],
   "source": [
    "# Loky, great for single machine parallelism \n",
    "from loky import get_reusable_executor\n",
    "executor = get_reusable_executor()\n",
    "results = list(executor.map(fn, jobs))\n",
    "\n",
    "# Ray, great for distributing over machines\n",
    "import ray\n",
    "ray.init()\n",
    "workfn = ray.remote(fn)\n",
    "results = [workfn.remote(job) for job in jobs]\n",
    "ray.get(results)\n",
    "ray.shutdown();"
   ]
  },
  {
   "cell_type": "markdown",
   "metadata": {},
   "source": [
    "!!! main carbon multiprocess\n",
    "\n",
    "# CPU bound tasks\n",
    "\n",
    "Most of the jobs we (I) want to execute are CPU bound. All I'm doing is crunching some numbers, retraining models, over and over, and I want to spend the least amount of time twiddling my thumbs.\n",
    "\n",
    "So let's simulate a common task, which is evaluating some arbitrarily slow function over and over again. Here I create a function which takes some array of parameters as input, and produces a single number as output. And then I create 512 different vectors in parameter space, and want to evaluate the function of each of the 512 sets of parameters."
   ]
  },
  {
   "cell_type": "code",
   "execution_count": 1,
   "metadata": {
    "ExecuteTime": {
     "end_time": "2021-05-17T19:51:52.602372Z",
     "start_time": "2021-05-17T19:51:30.932394Z"
    },
    "tags": [
     "remove_output"
    ]
   },
   "outputs": [],
   "source": [
    "import numpy as np\n",
    "\n",
    "def slow_fn(args):\n",
    "    \"\"\" Simulated an optimisation problem with args coming in\n",
    "    and function value being output \"\"\"\n",
    "    n = 10000\n",
    "    y = 0\n",
    "    for j in range(n):\n",
    "        j = j / n\n",
    "        for i, p in enumerate(args):\n",
    "            y += j * (p ** (i + 1))\n",
    "    return y / n\n",
    "\n",
    "def get_jobs(num_jobs=512, num_args=5):\n",
    "    \"\"\" Simulated sampling our parameter space multiple times \"\"\"\n",
    "    return [j for j in np.random.random((num_jobs, num_args))]\n",
    "\n",
    "jobs = get_jobs()\n",
    "\n",
    "# Check out this single core performance\n",
    "for job in jobs:\n",
    "    slow_fn(job)"
   ]
  },
  {
   "cell_type": "markdown",
   "metadata": {},
   "source": [
    "On my struggling laptop, these 512 jobs took `20.30s` to complete when running the functions in serial.\n",
    "\n",
    "## Pythons Concurrent.Futures\n",
    "\n",
    "It's best to start with some of the provided options in the standard library."
   ]
  },
  {
   "cell_type": "code",
   "execution_count": null,
   "metadata": {
    "tags": [
     "remove_output"
    ]
   },
   "outputs": [],
   "source": [
    "from concurrent.futures import ProcessPoolExecutor\n",
    "with ProcessPoolExecutor(max_workers=4) as executor:\n",
    "    results = list(executor.map(slow_fn, jobs, chunksize=16));"
   ]
  },
  {
   "cell_type": "markdown",
   "metadata": {},
   "source": [
    "With four workers and a chunksize of 16, this took me `6.47s`. If we disable chunking (which is a bad idea for small functions like this when you have a lot of them), it takes `6.57s`. Not much of a difference, but then again, 512 jobs isn't a particularly large number. Like effectively all of the multiprocessing options provided in the standard library, this method relies on process forking and **will not work inside a Jupyter notebook,** instead you'll need to throw the code into a python file and run it the good old `python yourfile.py` way.\n",
    "\n"
   ]
  },
  {
   "cell_type": "markdown",
   "metadata": {},
   "source": [
    "## Loky\n",
    "\n",
    "[Loky](https://github.com/joblib/loky) (from the smart cookies at joblib) is a suped up version of the Executor pool above that features reusable executors and code serialisation."
   ]
  },
  {
   "cell_type": "code",
   "execution_count": 27,
   "metadata": {
    "tags": [
     "remove_output"
    ]
   },
   "outputs": [],
   "source": [
    "from loky import get_reusable_executor\n",
    "executor = get_reusable_executor(max_workers=4)\n",
    "results = list(executor.map(slow_fn, jobs, chunksize=16));"
   ]
  },
  {
   "cell_type": "markdown",
   "metadata": {},
   "source": [
    "This ran in `6.31s` on my machine, the fastest yet. \n",
    "\n",
    "Loky has the benefit of distributing work by pickling the code you are trying to run and the arguments (using `cloudpickle`). This means it is much more flexible, and this method **will** run inside a Jupter notebook. Hell, it should run just about anywhere. \n",
    "\n",
    "The benefit you get from this freedom might start to be outweighed by the fact you are adding overhead (serialising the code) to your workload, but often this can be kept to a bare minimum. And in our case, the overhead of pickling the code was less than the overhead of the process setup used by the inbuilt `concurrent.futures` module, so we ran things faster.\n",
    "\n",
    "Cloudpickle will not serialise code outside of the local module, so if you want to lower the pickling overhead, just extract the function to another file (and if you're shipping the code off to an external machine, make sure it has said file too).\n",
    "\n",
    "To try and make sure this point is clear, the function `slow_fn` is defined within this file. Cloudpickle will turn all its code into bytes. If I move the function into `foo.py`, cloudpickle would only save out \"Call `foo.slow_fn`\" instead of the code itself. Reduce overheads, but add requirements for code to be in the right place. This overhead should be minimial unless you have a truly mammoth single function you're exporting. Still, your choice!\n",
    "\n"
   ]
  },
  {
   "cell_type": "markdown",
   "metadata": {},
   "source": [
    "\n",
    "\n",
    "## MPI4PY\n",
    "\n",
    "[MPI](https://en.wikipedia.org/wiki/Message_Passing_Interface) (Mesasge Parsing Interface) is a super handy way of spreading computational load not just around on one CPU, but across multiple CPU. [mpi4py](https://mpi4py.readthedocs.io/en/stable/) is a python implementation making our lives easier. It is used commonly in super computers, where you use systems like PBS, SGE, Torque, or Slurm to request many CPUs that might be located on completely different nodes. If you are only looking at once CPU and have no plans to move off it, there are simpler methods than MPI. If you did want to use MPI, you would do something like this:"
   ]
  },
  {
   "cell_type": "code",
   "execution_count": null,
   "metadata": {},
   "outputs": [],
   "source": [
    "from mpi4py.futures import MPIPoolExecutor\n",
    "with MPIPoolExecutor() as executor:\n",
    "    results = list(executor.map(slow_fn, jobs, chunksize=16));"
   ]
  },
  {
   "cell_type": "markdown",
   "metadata": {},
   "source": [
    "And you would execute the code not using `python yourfile.py`, but instead use `mpirun` or `mpiexec` and tell it how many cores you have. Like so:\n",
    "\n",
    "```mpiexec -n 8 python =-m mpi4py.futures yourfile.py```\n",
    "\n",
    "I've used MPI to distribute parallel processing loads which require minimal cross-talk. To go back to my astrophysics days, if you have 10k images of the night sky and need to process all of them, this is a great way of easily shipping the processing off to whatever CPU you can get your hands on in the supercomputers you have access to.\n",
    "\n",
    "Just keep in mind - the message parsing part is the expensive part. Minimise the network overhead to maximise your processing speed. For local CPU tasks, this will give you the same speed as `concurrent.futures`."
   ]
  },
  {
   "cell_type": "markdown",
   "metadata": {},
   "source": [
    "## Ray\n",
    "\n",
    "Want to go a lot fancier and start bringing in some big guns? [Ray](https://docs.ray.io/en/master/index.html) is also great for distributing your tasks over more than one CPU, and the setup for it is also very minimal. That being said, don't think Ray is a simple piece of code, there is a LOT in it, and it can do a lot of things (dashboards, autoscaling, model serving, and a whole bunch more)."
   ]
  },
  {
   "cell_type": "code",
   "execution_count": 33,
   "metadata": {
    "tags": [
     "remove_output"
    ]
   },
   "outputs": [
    {
     "name": "stderr",
     "output_type": "stream",
     "text": [
      "2021-05-15 21:03:30,625\tINFO services.py:1173 -- View the Ray dashboard at \u001b[1m\u001b[32mhttp://127.0.0.1:8265\u001b[39m\u001b[22m\n"
     ]
    }
   ],
   "source": [
    "import ray\n",
    "ray.init()\n",
    "\n",
    "workfn = ray.remote(slow_fn)\n",
    "results = [workfn.remote(job) for job in jobs]\n",
    "ray.get(results)\n",
    "\n",
    "ray.shutdown();"
   ]
  },
  {
   "cell_type": "markdown",
   "metadata": {},
   "source": [
    "Because this is also shipping your code elsewhere, it should run no issues in a Jupyter Notebook. Not that you'd normally want to do that, generally you'd put the ray server on a compute node somewhere, and then just connect to it, farming your jobs out. \n",
    "\n",
    "Anyway, the principle is straightforward. I set up a server, tell it that a specific function should be executed remotely (which in this case, is still my machine, but using all my cores now), and then send it off.\n",
    "\n",
    "All up, this took `16s` to run, but of those, `4.89s` was on actual computation, and the other `12s` was setting up and shutting down the server.\n",
    "\n",
    "Pretty impressive. Add onto that the fact that Ray has a ton of integrations (including some great [`HyperOptSearch`](https://docs.ray.io/en/latest/tune/api_docs/suggestion.html)) and I'm a fan.\n"
   ]
  },
  {
   "cell_type": "markdown",
   "metadata": {},
   "source": [
    "## Dask\n",
    "\n",
    "If you liked the sound of Ray, you'll probably like the sound of [`Dask`](https://dask.org/). Similar principle with workers and a controlling node. More focus on numerical computation, and it sits behind a lot of other distributed software (like `Prefect` as a single example). Note that if you're on windows, this may give you some issues, and for me [versioning mismatches in the conda release](https://github.com/dask/community/issues/150) made this a painful install, but hopefully this was just me getting unlucky with updating to a bugged version, and it doesn't affect anyone else.\n",
    "\n",
    "Once you have it installed, the rest is easy. Again, super basic usage only - making `Client()` set up a local client in the background isn't something you'd productionise!"
   ]
  },
  {
   "cell_type": "code",
   "execution_count": null,
   "metadata": {
    "ExecuteTime": {
     "start_time": "2021-05-17T19:21:08.940Z"
    },
    "tags": [
     "remove_output"
    ]
   },
   "outputs": [
    {
     "name": "stderr",
     "output_type": "stream",
     "text": [
      "C:\\Anaconda3\\lib\\site-packages\\distributed\\deploy\\spec.py:268: UserWarning: \n",
      "Could not launch service 'dashboard' on port 8787. Got the following message:\n",
      "\n",
      "failed to validate _ServerOpts(...).prefix: expected a value of type str, got None of type NoneType\n",
      "  self.scheduler = await self.scheduler\n",
      "distributed.protocol.core - CRITICAL - Failed to deserialize\n",
      "Traceback (most recent call last):\n",
      "  File \"C:\\Anaconda3\\lib\\site-packages\\distributed\\protocol\\core.py\", line 106, in loads\n",
      "    header = msgpack.loads(header, use_list=False, **msgpack_opts)\n",
      "  File \"msgpack\\_unpacker.pyx\", line 195, in msgpack._cmsgpack.unpackb\n",
      "ValueError: tuple is not allowed for map key\n",
      "distributed.protocol.core - CRITICAL - Failed to deserialize\n",
      "Traceback (most recent call last):\n",
      "  File \"C:\\Anaconda3\\lib\\site-packages\\distributed\\protocol\\core.py\", line 106, in loads\n",
      "    header = msgpack.loads(header, use_list=False, **msgpack_opts)\n",
      "  File \"msgpack\\_unpacker.pyx\", line 195, in msgpack._cmsgpack.unpackb\n",
      "ValueError: tuple is not allowed for map key\n",
      "distributed.protocol.core - CRITICAL - Failed to deserialize\n",
      "Traceback (most recent call last):\n",
      "  File \"C:\\Anaconda3\\lib\\site-packages\\distributed\\protocol\\core.py\", line 106, in loads\n",
      "    header = msgpack.loads(header, use_list=False, **msgpack_opts)\n",
      "  File \"msgpack\\_unpacker.pyx\", line 195, in msgpack._cmsgpack.unpackb\n",
      "ValueError: tuple is not allowed for map key\n",
      "distributed.protocol.core - CRITICAL - Failed to deserialize\n",
      "Traceback (most recent call last):\n",
      "  File \"C:\\Anaconda3\\lib\\site-packages\\distributed\\protocol\\core.py\", line 106, in loads\n",
      "    header = msgpack.loads(header, use_list=False, **msgpack_opts)\n",
      "  File \"msgpack\\_unpacker.pyx\", line 195, in msgpack._cmsgpack.unpackb\n",
      "ValueError: tuple is not allowed for map key\n",
      "distributed.scheduler - ERROR - Workers don't have promised key: ['tcp://127.0.0.1:55075'], slow_fn-3e4f6415903fdce81fb17f509e9169c6\n",
      "NoneType: None\n",
      "distributed.scheduler - ERROR - Workers don't have promised key: ['tcp://127.0.0.1:55073'], slow_fn-7d76b3040a3d8e914f009aebd756d0d3\n",
      "NoneType: None\n",
      "distributed.scheduler - ERROR - Workers don't have promised key: ['tcp://127.0.0.1:55075'], slow_fn-07545ba0ea886d86e7bdfe0a292a4a84\n",
      "NoneType: None\n",
      "distributed.scheduler - ERROR - Workers don't have promised key: ['tcp://127.0.0.1:55071'], slow_fn-3209f026f1b696d58053ec0647dd51d6\n",
      "NoneType: None\n",
      "distributed.scheduler - ERROR - Workers don't have promised key: ['tcp://127.0.0.1:55075'], slow_fn-6d294f4a5cb97fbfd26dfdd4386189e2\n",
      "NoneType: None\n",
      "distributed.scheduler - ERROR - Workers don't have promised key: ['tcp://127.0.0.1:55069'], slow_fn-8bbc50acbef4861f78a17e7c16ab307a\n",
      "NoneType: None\n",
      "distributed.scheduler - ERROR - Workers don't have promised key: ['tcp://127.0.0.1:55069'], slow_fn-3128e6889d08cbe89f6561eef38443ba\n",
      "NoneType: None\n",
      "distributed.scheduler - ERROR - Workers don't have promised key: ['tcp://127.0.0.1:55071'], slow_fn-f0e2f3bf74926728632552bac22c91a0\n",
      "NoneType: None\n",
      "distributed.scheduler - ERROR - Workers don't have promised key: ['tcp://127.0.0.1:55073'], slow_fn-c0bda45ad45a8b921e1c07187f43121d\n",
      "NoneType: None\n",
      "distributed.scheduler - ERROR - Workers don't have promised key: ['tcp://127.0.0.1:55069'], slow_fn-aecbc11eb6c8992dd843609be082ed36\n",
      "NoneType: None\n",
      "distributed.scheduler - ERROR - Workers don't have promised key: ['tcp://127.0.0.1:55073'], slow_fn-7000565fa0ea705beb225ffdbdf98d11\n",
      "NoneType: None\n",
      "distributed.scheduler - ERROR - Workers don't have promised key: ['tcp://127.0.0.1:55071'], slow_fn-8f91900fe406e2597ff823448b30b89a\n",
      "NoneType: None\n",
      "distributed.client - WARNING - Couldn't gather 12 keys, rescheduling {'slow_fn-3e4f6415903fdce81fb17f509e9169c6': ('tcp://127.0.0.1:55075',), 'slow_fn-7d76b3040a3d8e914f009aebd756d0d3': ('tcp://127.0.0.1:55073',), 'slow_fn-07545ba0ea886d86e7bdfe0a292a4a84': ('tcp://127.0.0.1:55075',), 'slow_fn-3209f026f1b696d58053ec0647dd51d6': ('tcp://127.0.0.1:55071',), 'slow_fn-6d294f4a5cb97fbfd26dfdd4386189e2': ('tcp://127.0.0.1:55075',), 'slow_fn-8bbc50acbef4861f78a17e7c16ab307a': ('tcp://127.0.0.1:55069',), 'slow_fn-3128e6889d08cbe89f6561eef38443ba': ('tcp://127.0.0.1:55069',), 'slow_fn-f0e2f3bf74926728632552bac22c91a0': ('tcp://127.0.0.1:55071',), 'slow_fn-c0bda45ad45a8b921e1c07187f43121d': ('tcp://127.0.0.1:55073',), 'slow_fn-aecbc11eb6c8992dd843609be082ed36': ('tcp://127.0.0.1:55069',), 'slow_fn-7000565fa0ea705beb225ffdbdf98d11': ('tcp://127.0.0.1:55073',), 'slow_fn-8f91900fe406e2597ff823448b30b89a': ('tcp://127.0.0.1:55071',)}\n"
     ]
    }
   ],
   "source": [
    "from dask.distributed import Client\n",
    "client = Client()\n",
    "# Send off jobs\n",
    "futures = client.map(slow_fn, jobs)\n",
    "# Get their outputs\n",
    "results = client.gather(futures)"
   ]
  },
  {
   "cell_type": "markdown",
   "metadata": {},
   "source": [
    "All up this took `7.4s`, with `5.8s` spent on compute and the rest launching the local cluster in the background.\n",
    "\n",
    "## p_tqdm (aka Pathos + tqdm)\n",
    "\n",
    "[tqdm](https://github.com/tqdm/tqdm) is not an acronym, but it is a progress bar. [Pathos](https://pathos.readthedocs.io/en/latest/pathos.html) is a framework for heterogeneous computing. [p_tqdm](https://github.com/swansonk14/p_tqdm) is a library where @swansonk14 has stuck them both together. So think more a competitor to Ray than to Loky."
   ]
  },
  {
   "cell_type": "code",
   "execution_count": 37,
   "metadata": {},
   "outputs": [
    {
     "name": "stderr",
     "output_type": "stream",
     "text": [
      "100%|██████████| 512/512 [00:05<00:00, 96.89it/s] \n"
     ]
    }
   ],
   "source": [
    "from p_tqdm import p_map\n",
    "results = p_map(slow_fn, jobs);"
   ]
  },
  {
   "cell_type": "markdown",
   "metadata": {},
   "source": [
    "I was surprised this ran faster than both `concurrent.futures` and `loky`, it came in at only `5.38s`. And you even get a progress bar so that you know things are still running and progressing smoothly. Obviously in my case, I don't really need it, but if you have a job which will take 10 hours to run, it would be great to know that its slowly chewing through the tasks and not actually hanging.\n",
    "\n",
    "And as you saw, its ridiculously easy to set up. If you want to see the other things you can do `map` (blocking) vs `imap` (non-blocking) vs `amap` (async) then jump into their documentation linked above.\n",
    "\n",
    "If you don't care at all about the progress bar, to get stock pathos multiprocessing working, this will work:"
   ]
  },
  {
   "cell_type": "code",
   "execution_count": 38,
   "metadata": {
    "tags": [
     "remove_output"
    ]
   },
   "outputs": [],
   "source": [
    "from pathos.multiprocessing import ProcessPool\n",
    "pool = ProcessPool()\n",
    "results = pool.map(slow_fn, jobs, chunksize=16);"
   ]
  },
  {
   "cell_type": "markdown",
   "metadata": {},
   "source": [
    "# Memory Blocking\n",
    "\n",
    "A common issue with attempts at multiprocessing on a single physical CPU is that there are many things which can bottleneck CPU execution. On many machines, memory management is done at the kernel level, which means that any `malloc` calls cannot be done in parallel.\n",
    "\n",
    "First, consider our original `slow_fn` - it took 20 seconds to run in serial, and around 5s to run over 4 cores. This is the ideal result.\n",
    "\n",
    "Now consider a vectorised version of our `slow_fn`, like so:"
   ]
  },
  {
   "cell_type": "code",
   "execution_count": 3,
   "metadata": {
    "ExecuteTime": {
     "end_time": "2021-05-15T21:01:40.794671Z",
     "start_time": "2021-05-15T21:01:39.971780Z"
    }
   },
   "outputs": [],
   "source": [
    "def slow_fn_malloc(args):\n",
    "    n = 100000\n",
    "    x = np.linspace(0, 1, n)\n",
    "    y = np.zeros(n)\n",
    "    for i, p in enumerate(args):\n",
    "        y += x * (p ** (i + 1))\n",
    "    return y.sum() / n\n",
    "\n",
    "for job in jobs:\n",
    "    slow_fn_malloc(job)"
   ]
  },
  {
   "cell_type": "markdown",
   "metadata": {},
   "source": [
    "Now, by all accounts, this function is *better*.  Running this took `58ms`.  From 20 seconds down to a twentieth of a second... Vectorisation is great.\n",
    "\n",
    "Let me increase the number of jobs, now that we're burning through jobs so quickly. Oh, I'll also make `n` ten times larger, to increase the numerical precision of our function."
   ]
  },
  {
   "cell_type": "code",
   "execution_count": 57,
   "metadata": {},
   "outputs": [],
   "source": [
    "def get_many_jobs(num_jobs=4096, num_args=5):\n",
    "    return [j for j in np.random.random((num_jobs, num_args))]\n",
    "\n",
    "many_jobs = get_many_jobs()"
   ]
  },
  {
   "cell_type": "markdown",
   "metadata": {},
   "source": [
    "And timing it we have:"
   ]
  },
  {
   "cell_type": "code",
   "execution_count": 58,
   "metadata": {},
   "outputs": [
    {
     "name": "stdout",
     "output_type": "stream",
     "text": [
      "Wall time: 3.56 s\n"
     ]
    }
   ],
   "source": [
    "%%time\n",
    "for job in many_jobs:\n",
    "    slow_fn_malloc(job)"
   ]
  },
  {
   "cell_type": "markdown",
   "metadata": {},
   "source": [
    "So with even more jobs, and an increase in `n`, this now takes `3.56s` to take. Still, very impressive considering this is all on one core now. So what happens if we try to ship it out to multiple cores? Any of the above libraries would work, I'll just use `loky`:"
   ]
  },
  {
   "cell_type": "code",
   "execution_count": 60,
   "metadata": {},
   "outputs": [
    {
     "name": "stdout",
     "output_type": "stream",
     "text": [
      "Wall time: 3.54 s\n"
     ]
    }
   ],
   "source": [
    "%%time\n",
    "executor = get_reusable_executor(max_workers=4)\n",
    "results = list(executor.map(slow_fn_malloc, many_jobs, chunksize=16));"
   ]
  },
  {
   "cell_type": "markdown",
   "metadata": {},
   "source": [
    "Wait, `3.54s`... it didn't improve at all!\n",
    "\n",
    "The reason is fairly simple. In `slow_fn_malloc` the time is being taken creating the arrays, not adding them up. And because creating the arrays requires assigning memory, and thus on many operating systems (like macOS, Windows, and non-compute linux distros) is not parallelised, it doesn't matter how many CPU cores you have, you're just going to be waiting on memory.\n",
    "\n",
    "Just thought I'd bring that up, in case you're trying to debug why your execution time isn't scaling like how you want - network, disc, and memory are the three most common bottlenecks that get in the way.\n",
    "\n",
    "Anyway, hope this short example on how to use a bunch of different multiprocessing libraries is useful!"
   ]
  }
 ],
 "metadata": {
  "celltoolbar": "Tags",
  "kernelspec": {
   "display_name": "Python 3",
   "language": "python",
   "name": "python3"
  },
  "language_info": {
   "codemirror_mode": {
    "name": "ipython",
    "version": 3
   },
   "file_extension": ".py",
   "mimetype": "text/x-python",
   "name": "python",
   "nbconvert_exporter": "python",
   "pygments_lexer": "ipython3",
   "version": "3.9.4"
  }
 },
 "nbformat": 4,
 "nbformat_minor": 4
}
