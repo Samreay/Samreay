{
 "cells": [
  {
   "cell_type": "markdown",
   "metadata": {},
   "source": [
    "---\n",
    "layout: post\n",
    "title:  \"Handy Python Decorators\"\n",
    "desc: \"A short example on how to use decorators in your code to provide extra functionality\"\n",
    "date: ###DATE\n",
    "categories: [tutorial]\n",
    "tags: [snippet]\n",
    "loc: ###LOC\n",
    "permalink: ###LINK \n",
    "redirect_from: \"/decorators\"\n",
    "math: true\n",
    "---\n",
    "\n",
    "Decorators are something that are criminally underused in the analysis codes I have seen in academia. So, give me a few seconds to try and espouse their virtues. First, if you are new to decorators, how they work is simple: they are a function that returns a function which has wrapped another function. Simple!\n",
    "\n",
    "It's easier to explain in code."
   ]
  },
  {
   "cell_type": "code",
   "execution_count": 1,
   "metadata": {},
   "outputs": [
    {
     "name": "stdout",
     "output_type": "stream",
     "text": [
      "Look, I've added something here!\n"
     ]
    },
    {
     "data": {
      "text/plain": [
       "3"
      ]
     },
     "execution_count": 1,
     "metadata": {},
     "output_type": "execute_result"
    }
   ],
   "source": [
    "def decorator(fn):\n",
    "    def wrapper(*args, **kwargs):\n",
    "        print(\"Look, I've added something here!\")\n",
    "        return fn(*args, **kwargs)\n",
    "    return wrapper\n",
    "\n",
    "@decorator\n",
    "def add(a, b):\n",
    "    return a + b\n",
    "\n",
    "add(1, 2)"
   ]
  },
  {
   "cell_type": "markdown",
   "metadata": {},
   "source": [
    "So you can see what is happening here is that by decoratoring the `add` function, when we now call `add`, we actually hit the `wrapper` function, which prints a statement, and *then* it hits the original `add` function. So the `@` syntax is the same for just a reassignment"
   ]
  },
  {
   "cell_type": "code",
   "execution_count": 2,
   "metadata": {},
   "outputs": [
    {
     "name": "stdout",
     "output_type": "stream",
     "text": [
      "Look, I've added something here!\n"
     ]
    },
    {
     "data": {
      "text/plain": [
       "3"
      ]
     },
     "execution_count": 2,
     "metadata": {},
     "output_type": "execute_result"
    }
   ],
   "source": [
    "# Does the same thing:\n",
    "def add(a, b):\n",
    "    return a + b\n",
    "add = decorator(add)\n",
    "add(1, 2)"
   ]
  },
  {
   "cell_type": "markdown",
   "metadata": {},
   "source": [
    "So this allows us to do a bunch of things. We could use it for logging. For timing functions. For trying to detect or sanitise input. For caching results (see `lru_cache` for an implementation of this that is part of the base python libraries). For a ton of things. So what you *could* have in your code base, is a collection of decorators that you can throw on and off your functions when you need them. Things not running smoothly, put a `@debug`. Want to time the function, add a `@timer`. Want to make sure a function is only run once, add `@run_once`. Examples of all of this are below.\n",
    "\n",
    "First, lets set up logging. I add the reload because if you run this in a notebook it will already have done the basic config for you, and you wont see any logging unless you reload and re-configure it."
   ]
  },
  {
   "cell_type": "code",
   "execution_count": 3,
   "metadata": {},
   "outputs": [],
   "source": [
    "import logging\n",
    "import importlib\n",
    "importlib.reload(logging)\n",
    "\n",
    "logging.basicConfig(format='%(asctime)s %(levelname)s: %(message)s', level=logging.DEBUG, datefmt='%I:%M:%S')"
   ]
  },
  {
   "cell_type": "markdown",
   "metadata": {},
   "source": [
    "Alright, so here is a useful debug decorator:"
   ]
  },
  {
   "cell_type": "code",
   "execution_count": 4,
   "metadata": {},
   "outputs": [],
   "source": [
    "def debug(fn):\n",
    "    def wrapper(*args, **kwargs):\n",
    "        logging.debug(f\"Invoking {fn.__name__}\")\n",
    "        logging.debug(f\"  args: {args}\")\n",
    "        logging.debug(f\"  kwargs: {kwargs}\")\n",
    "        result = fn(*args, **kwargs)\n",
    "        logging.debug(f\"  returned {result}\")\n",
    "        return result\n",
    "    return wrapper\n",
    "    \n",
    "@debug\n",
    "def add(a, b):\n",
    "    return a + b"
   ]
  },
  {
   "cell_type": "markdown",
   "metadata": {},
   "source": [
    "!!!main carbon debug\n",
    "\n",
    "And now in my code, when something looks... funky... I can just throw a quick `@debug` on the most suspicious function and ensure that it is functioning properly."
   ]
  },
  {
   "cell_type": "code",
   "execution_count": 5,
   "metadata": {},
   "outputs": [
    {
     "name": "stderr",
     "output_type": "stream",
     "text": [
      "10:03:37 DEBUG: Invoking add\n",
      "10:03:37 DEBUG:   args: (1, 2)\n",
      "10:03:37 DEBUG:   kwargs: {}\n",
      "10:03:37 DEBUG:   returned 3\n"
     ]
    },
    {
     "data": {
      "text/plain": [
       "3"
      ]
     },
     "execution_count": 5,
     "metadata": {},
     "output_type": "execute_result"
    }
   ],
   "source": [
    "add(1, 2)"
   ]
  },
  {
   "cell_type": "markdown",
   "metadata": {},
   "source": [
    "Now lets get a function to figure out how long execution takes!"
   ]
  },
  {
   "cell_type": "code",
   "execution_count": 6,
   "metadata": {},
   "outputs": [
    {
     "name": "stderr",
     "output_type": "stream",
     "text": [
      "10:03:37 DEBUG:   Took 0.0008 ms\n"
     ]
    },
    {
     "data": {
      "text/plain": [
       "7"
      ]
     },
     "execution_count": 6,
     "metadata": {},
     "output_type": "execute_result"
    }
   ],
   "source": [
    "import time\n",
    "\n",
    "def timer(fn):\n",
    "    def wrapper(*args, **kwargs):\n",
    "        start_time = time.perf_counter()\n",
    "        result = fn(*args, **kwargs)\n",
    "        end_time = time.perf_counter()\n",
    "        duration = (end_time - start_time) * 1000\n",
    "        logging.debug(f\"  Took {duration:0.4f} ms\")\n",
    "        return result\n",
    "    return wrapper\n",
    "\n",
    "@timer\n",
    "def add(a, b):\n",
    "    return a + b\n",
    "\n",
    "add(3, 4)"
   ]
  },
  {
   "cell_type": "markdown",
   "metadata": {},
   "source": [
    "And note we can combine decorators! Want to debug **and** time the function?"
   ]
  },
  {
   "cell_type": "code",
   "execution_count": 7,
   "metadata": {},
   "outputs": [
    {
     "name": "stderr",
     "output_type": "stream",
     "text": [
      "10:03:37 DEBUG: Invoking wrapper\n",
      "10:03:37 DEBUG:   args: (5, 6)\n",
      "10:03:37 DEBUG:   kwargs: {}\n",
      "10:03:37 DEBUG:   Took 0.0008 ms\n",
      "10:03:37 DEBUG:   returned 11\n"
     ]
    },
    {
     "data": {
      "text/plain": [
       "11"
      ]
     },
     "execution_count": 7,
     "metadata": {},
     "output_type": "execute_result"
    }
   ],
   "source": [
    "@debug\n",
    "@timer\n",
    "def add(a, b):\n",
    "    return a + b\n",
    "\n",
    "add(5, 6)"
   ]
  },
  {
   "cell_type": "markdown",
   "metadata": {},
   "source": [
    "Note the importance of the order. Debug goes first, so its wrapper executes first, then timers wrapper, then the original function. If you swap the order, you'll note the time now goes up to multiple miliseconds because `@timer` is now also timing the logging!\n",
    "\n",
    "Finally as another handy decorator, what if we want to ensure a function is only run once?"
   ]
  },
  {
   "cell_type": "code",
   "execution_count": 6,
   "metadata": {
    "ExecuteTime": {
     "end_time": "2021-08-16T20:06:33.386216Z",
     "start_time": "2021-08-16T20:06:33.371257Z"
    }
   },
   "outputs": [
    {
     "name": "stdout",
     "output_type": "stream",
     "text": [
      "13\n",
      "NO! NOT ALLOWED!\n",
      "None\n"
     ]
    }
   ],
   "source": [
    "def run_once(fn):\n",
    "    def wrapper(*args, **kwargs):\n",
    "        if not wrapper.has_run:\n",
    "            wrapper.has_run = True\n",
    "            return fn(*args, **kwargs)\n",
    "        else:\n",
    "            print(\"NO! NOT ALLOWED!\")\n",
    "    wrapper.has_run = False\n",
    "    return wrapper\n",
    "\n",
    "@run_once\n",
    "def add(a, b):\n",
    "    return a + b\n",
    "\n",
    "print(add(6, 7))\n",
    "print(add(7, 8))"
   ]
  },
  {
   "cell_type": "markdown",
   "metadata": {},
   "source": [
    "In python functions are objects too, so we can attack attributes to them, like `has_run`, and then check the attribute status when executing. In the output, you can see the first `add` works fine, but then the second time we try we get a mean print message and a result of `None`. You could make this an exception if you want, I just need it to be able to execute for the write up!\n",
    "\n",
    "Anyway, I hope this has given you some useful ideas. Having a `decorators` utility file to throw around can add value to any project you have!"
   ]
  }
 ],
 "metadata": {
  "celltoolbar": "Tags",
  "kernelspec": {
   "display_name": "Python 3",
   "language": "python",
   "name": "python3"
  },
  "language_info": {
   "codemirror_mode": {
    "name": "ipython",
    "version": 3
   },
   "file_extension": ".py",
   "mimetype": "text/x-python",
   "name": "python",
   "nbconvert_exporter": "python",
   "pygments_lexer": "ipython3",
   "version": "3.7.10"
  }
 },
 "nbformat": 4,
 "nbformat_minor": 4
}
